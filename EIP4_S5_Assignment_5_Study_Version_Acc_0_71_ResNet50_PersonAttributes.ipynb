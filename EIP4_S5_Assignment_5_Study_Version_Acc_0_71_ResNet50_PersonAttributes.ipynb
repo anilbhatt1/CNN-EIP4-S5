{
  "nbformat": 4,
  "nbformat_minor": 0,
  "metadata": {
    "colab": {
      "name": "EIP4-S5-Assignment 5 Study Version-Acc 0.71-ResNet50-PersonAttributes.ipynb",
      "provenance": [],
      "collapsed_sections": [],
      "include_colab_link": true
    },
    "kernelspec": {
      "name": "python3",
      "display_name": "Python 3"
    },
    "accelerator": "GPU"
  },
  "cells": [
    {
      "cell_type": "markdown",
      "metadata": {
        "id": "view-in-github",
        "colab_type": "text"
      },
      "source": [
        "<a href=\"https://colab.research.google.com/github/anilbhatt1/CNN-EIP4-S5/blob/master/EIP4_S5_Assignment_5_Study_Version_Acc_0_71_ResNet50_PersonAttributes.ipynb\" target=\"_parent\"><img src=\"https://colab.research.google.com/assets/colab-badge.svg\" alt=\"Open In Colab\"/></a>"
      ]
    },
    {
      "cell_type": "code",
      "metadata": {
        "id": "Gyq8CE4ug5BK",
        "colab_type": "code",
        "outputId": "b58e250a-2177-4e4f-db79-962959d891b2",
        "colab": {
          "base_uri": "https://localhost:8080/",
          "height": 87
        }
      },
      "source": [
        "# mount gdrive and unzip data\n",
        "from google.colab import drive\n",
        "drive.mount('/content/gdrive')\n",
        "!unzip -q \"/content/gdrive/My Drive/hvc_data.zip\"\n",
        "# look for `hvc_annotations.csv` file and `resized` dir\n",
        "%ls "
      ],
      "execution_count": 0,
      "outputs": [
        {
          "output_type": "stream",
          "text": [
            "Drive already mounted at /content/gdrive; to attempt to forcibly remount, call drive.mount(\"/content/gdrive\", force_remount=True).\n",
            "replace resized/9733.jpg? [y]es, [n]o, [A]ll, [N]one, [r]ename: n\n",
            "replace resized/63.jpg? [y]es, [n]o, [A]ll, [N]one, [r]ename: N\n",
            "\u001b[0m\u001b[01;34mgdrive\u001b[0m/  hvc_annotations.csv  \u001b[01;34mresized\u001b[0m/  \u001b[01;34msample_data\u001b[0m/\n"
          ],
          "name": "stdout"
        }
      ]
    },
    {
      "cell_type": "code",
      "metadata": {
        "id": "bYbNQzK6kj94",
        "colab_type": "code",
        "colab": {}
      },
      "source": [
        "%tensorflow_version 1.x\n",
        "\n",
        "import cv2\n",
        "import json\n",
        "\n",
        "import numpy as np\n",
        "import pandas as pd\n",
        "\n",
        "from functools import partial\n",
        "from pathlib import Path \n",
        "from tqdm import tqdm\n",
        "\n",
        "from google.colab.patches import cv2_imshow\n",
        "\n",
        "from sklearn.model_selection import train_test_split\n",
        "from sklearn.preprocessing import LabelEncoder, OneHotEncoder\n",
        "\n",
        "\n",
        "from keras.applications import VGG16\n",
        "from keras.layers.core import Dropout\n",
        "from keras.layers.core import Flatten\n",
        "from keras.layers.core import Dense\n",
        "from keras.layers import Input\n",
        "from keras.models import Model\n",
        "from keras.optimizers import SGD\n",
        "from keras.preprocessing.image import ImageDataGenerator\n",
        "from keras.applications.resnet50 import ResNet50\n"
      ],
      "execution_count": 0,
      "outputs": []
    },
    {
      "cell_type": "code",
      "metadata": {
        "id": "vQkbSpLK4sTP",
        "colab_type": "code",
        "outputId": "b8abdb8a-2436-4202-e366-1db11ad942bc",
        "colab": {
          "base_uri": "https://localhost:8080/",
          "height": 110
        }
      },
      "source": [
        "# load annotations\n",
        "df = pd.read_csv(\"hvc_annotations.csv\")\n",
        "del df[\"filename\"] # remove unwanted column\n",
        "df.head(2)"
      ],
      "execution_count": 0,
      "outputs": [
        {
          "output_type": "execute_result",
          "data": {
            "text/html": [
              "<div>\n",
              "<style scoped>\n",
              "    .dataframe tbody tr th:only-of-type {\n",
              "        vertical-align: middle;\n",
              "    }\n",
              "\n",
              "    .dataframe tbody tr th {\n",
              "        vertical-align: top;\n",
              "    }\n",
              "\n",
              "    .dataframe thead th {\n",
              "        text-align: right;\n",
              "    }\n",
              "</style>\n",
              "<table border=\"1\" class=\"dataframe\">\n",
              "  <thead>\n",
              "    <tr style=\"text-align: right;\">\n",
              "      <th></th>\n",
              "      <th>gender</th>\n",
              "      <th>imagequality</th>\n",
              "      <th>age</th>\n",
              "      <th>weight</th>\n",
              "      <th>carryingbag</th>\n",
              "      <th>footwear</th>\n",
              "      <th>emotion</th>\n",
              "      <th>bodypose</th>\n",
              "      <th>image_path</th>\n",
              "    </tr>\n",
              "  </thead>\n",
              "  <tbody>\n",
              "    <tr>\n",
              "      <th>0</th>\n",
              "      <td>male</td>\n",
              "      <td>Average</td>\n",
              "      <td>35-45</td>\n",
              "      <td>normal-healthy</td>\n",
              "      <td>Grocery/Home/Plastic Bag</td>\n",
              "      <td>Normal</td>\n",
              "      <td>Neutral</td>\n",
              "      <td>Front-Frontish</td>\n",
              "      <td>resized/1.jpg</td>\n",
              "    </tr>\n",
              "    <tr>\n",
              "      <th>1</th>\n",
              "      <td>female</td>\n",
              "      <td>Average</td>\n",
              "      <td>35-45</td>\n",
              "      <td>over-weight</td>\n",
              "      <td>None</td>\n",
              "      <td>Normal</td>\n",
              "      <td>Angry/Serious</td>\n",
              "      <td>Front-Frontish</td>\n",
              "      <td>resized/2.jpg</td>\n",
              "    </tr>\n",
              "  </tbody>\n",
              "</table>\n",
              "</div>"
            ],
            "text/plain": [
              "   gender imagequality    age  ...        emotion        bodypose     image_path\n",
              "0    male      Average  35-45  ...        Neutral  Front-Frontish  resized/1.jpg\n",
              "1  female      Average  35-45  ...  Angry/Serious  Front-Frontish  resized/2.jpg\n",
              "\n",
              "[2 rows x 9 columns]"
            ]
          },
          "metadata": {
            "tags": []
          },
          "execution_count": 56
        }
      ]
    },
    {
      "cell_type": "code",
      "metadata": {
        "id": "HhtVxsoK3I0J",
        "colab_type": "code",
        "outputId": "359ca8c3-77a5-4176-82ab-1bbb056910fa",
        "colab": {
          "base_uri": "https://localhost:8080/",
          "height": 35
        }
      },
      "source": [
        "type(df.gender)"
      ],
      "execution_count": 0,
      "outputs": [
        {
          "output_type": "execute_result",
          "data": {
            "text/plain": [
              "pandas.core.series.Series"
            ]
          },
          "metadata": {
            "tags": []
          },
          "execution_count": 57
        }
      ]
    },
    {
      "cell_type": "code",
      "metadata": {
        "id": "ufsqxnU73WFX",
        "colab_type": "code",
        "outputId": "0989852c-5d9e-4e0b-8d7d-f0287e7a5128",
        "colab": {
          "base_uri": "https://localhost:8080/",
          "height": 141
        }
      },
      "source": [
        "pd.get_dummies(df.gender, prefix=\"gender\").head(3)"
      ],
      "execution_count": 0,
      "outputs": [
        {
          "output_type": "execute_result",
          "data": {
            "text/html": [
              "<div>\n",
              "<style scoped>\n",
              "    .dataframe tbody tr th:only-of-type {\n",
              "        vertical-align: middle;\n",
              "    }\n",
              "\n",
              "    .dataframe tbody tr th {\n",
              "        vertical-align: top;\n",
              "    }\n",
              "\n",
              "    .dataframe thead th {\n",
              "        text-align: right;\n",
              "    }\n",
              "</style>\n",
              "<table border=\"1\" class=\"dataframe\">\n",
              "  <thead>\n",
              "    <tr style=\"text-align: right;\">\n",
              "      <th></th>\n",
              "      <th>gender_female</th>\n",
              "      <th>gender_male</th>\n",
              "    </tr>\n",
              "  </thead>\n",
              "  <tbody>\n",
              "    <tr>\n",
              "      <th>0</th>\n",
              "      <td>0</td>\n",
              "      <td>1</td>\n",
              "    </tr>\n",
              "    <tr>\n",
              "      <th>1</th>\n",
              "      <td>1</td>\n",
              "      <td>0</td>\n",
              "    </tr>\n",
              "    <tr>\n",
              "      <th>2</th>\n",
              "      <td>0</td>\n",
              "      <td>1</td>\n",
              "    </tr>\n",
              "  </tbody>\n",
              "</table>\n",
              "</div>"
            ],
            "text/plain": [
              "   gender_female  gender_male\n",
              "0              0            1\n",
              "1              1            0\n",
              "2              0            1"
            ]
          },
          "metadata": {
            "tags": []
          },
          "execution_count": 58
        }
      ]
    },
    {
      "cell_type": "code",
      "metadata": {
        "id": "3xHTtKAn3hB-",
        "colab_type": "code",
        "outputId": "a8d4d485-8cad-481a-dc78-72e4543240d5",
        "colab": {
          "base_uri": "https://localhost:8080/",
          "height": 35
        }
      },
      "source": [
        "type(df['image_path'])"
      ],
      "execution_count": 0,
      "outputs": [
        {
          "output_type": "execute_result",
          "data": {
            "text/plain": [
              "pandas.core.series.Series"
            ]
          },
          "metadata": {
            "tags": []
          },
          "execution_count": 59
        }
      ]
    },
    {
      "cell_type": "code",
      "metadata": {
        "id": "pvXtUP5L4svT",
        "colab_type": "code",
        "outputId": "056e52eb-96c0-4b00-c249-415b7bc8ef9c",
        "colab": {
          "base_uri": "https://localhost:8080/",
          "height": 35
        }
      },
      "source": [
        "type(df[['image_path']])"
      ],
      "execution_count": 0,
      "outputs": [
        {
          "output_type": "execute_result",
          "data": {
            "text/plain": [
              "pandas.core.frame.DataFrame"
            ]
          },
          "metadata": {
            "tags": []
          },
          "execution_count": 60
        }
      ]
    },
    {
      "cell_type": "code",
      "metadata": {
        "id": "PEDO83ok40cX",
        "colab_type": "code",
        "outputId": "a0d7ad3a-ca9d-418c-b561-d0051e9a6e65",
        "colab": {
          "base_uri": "https://localhost:8080/",
          "height": 141
        }
      },
      "source": [
        "pd.concat([df[['image_path']],pd.get_dummies(df.gender,prefix='gender')],axis=1).head(3)"
      ],
      "execution_count": 0,
      "outputs": [
        {
          "output_type": "execute_result",
          "data": {
            "text/html": [
              "<div>\n",
              "<style scoped>\n",
              "    .dataframe tbody tr th:only-of-type {\n",
              "        vertical-align: middle;\n",
              "    }\n",
              "\n",
              "    .dataframe tbody tr th {\n",
              "        vertical-align: top;\n",
              "    }\n",
              "\n",
              "    .dataframe thead th {\n",
              "        text-align: right;\n",
              "    }\n",
              "</style>\n",
              "<table border=\"1\" class=\"dataframe\">\n",
              "  <thead>\n",
              "    <tr style=\"text-align: right;\">\n",
              "      <th></th>\n",
              "      <th>image_path</th>\n",
              "      <th>gender_female</th>\n",
              "      <th>gender_male</th>\n",
              "    </tr>\n",
              "  </thead>\n",
              "  <tbody>\n",
              "    <tr>\n",
              "      <th>0</th>\n",
              "      <td>resized/1.jpg</td>\n",
              "      <td>0</td>\n",
              "      <td>1</td>\n",
              "    </tr>\n",
              "    <tr>\n",
              "      <th>1</th>\n",
              "      <td>resized/2.jpg</td>\n",
              "      <td>1</td>\n",
              "      <td>0</td>\n",
              "    </tr>\n",
              "    <tr>\n",
              "      <th>2</th>\n",
              "      <td>resized/3.jpg</td>\n",
              "      <td>0</td>\n",
              "      <td>1</td>\n",
              "    </tr>\n",
              "  </tbody>\n",
              "</table>\n",
              "</div>"
            ],
            "text/plain": [
              "      image_path  gender_female  gender_male\n",
              "0  resized/1.jpg              0            1\n",
              "1  resized/2.jpg              1            0\n",
              "2  resized/3.jpg              0            1"
            ]
          },
          "metadata": {
            "tags": []
          },
          "execution_count": 61
        }
      ]
    },
    {
      "cell_type": "code",
      "metadata": {
        "id": "202OJva345WA",
        "colab_type": "code",
        "outputId": "f84b0a95-a718-40cb-c2be-cf03c57e8ea8",
        "colab": {
          "base_uri": "https://localhost:8080/",
          "height": 907
        }
      },
      "source": [
        "# one hot encoding of labels\n",
        "# df[['image_path']] -> 2 brackets to ensure a dataframe is returned. If it is df['image path'], we will only get a series back\n",
        "# pd.get_dummies will return a dataframe with 1 & 0 for column it is targetting. Check cell above\n",
        "one_hot_df = pd.concat([\n",
        "    df[[\"image_path\"]],\n",
        "    pd.get_dummies(df.gender, prefix=\"gender\"),\n",
        "    pd.get_dummies(df.imagequality, prefix=\"imagequality\"),\n",
        "    pd.get_dummies(df.age, prefix=\"age\"),\n",
        "    pd.get_dummies(df.weight, prefix=\"weight\"),\n",
        "    pd.get_dummies(df.carryingbag, prefix=\"carryingbag\"),\n",
        "    pd.get_dummies(df.footwear, prefix=\"footwear\"),\n",
        "    pd.get_dummies(df.emotion, prefix=\"emotion\"),\n",
        "    pd.get_dummies(df.bodypose, prefix=\"bodypose\"),\n",
        "], axis = 1)\n",
        "\n",
        "one_hot_df.head(2).T"
      ],
      "execution_count": 0,
      "outputs": [
        {
          "output_type": "execute_result",
          "data": {
            "text/html": [
              "<div>\n",
              "<style scoped>\n",
              "    .dataframe tbody tr th:only-of-type {\n",
              "        vertical-align: middle;\n",
              "    }\n",
              "\n",
              "    .dataframe tbody tr th {\n",
              "        vertical-align: top;\n",
              "    }\n",
              "\n",
              "    .dataframe thead th {\n",
              "        text-align: right;\n",
              "    }\n",
              "</style>\n",
              "<table border=\"1\" class=\"dataframe\">\n",
              "  <thead>\n",
              "    <tr style=\"text-align: right;\">\n",
              "      <th></th>\n",
              "      <th>0</th>\n",
              "      <th>1</th>\n",
              "    </tr>\n",
              "  </thead>\n",
              "  <tbody>\n",
              "    <tr>\n",
              "      <th>image_path</th>\n",
              "      <td>resized/1.jpg</td>\n",
              "      <td>resized/2.jpg</td>\n",
              "    </tr>\n",
              "    <tr>\n",
              "      <th>gender_female</th>\n",
              "      <td>0</td>\n",
              "      <td>1</td>\n",
              "    </tr>\n",
              "    <tr>\n",
              "      <th>gender_male</th>\n",
              "      <td>1</td>\n",
              "      <td>0</td>\n",
              "    </tr>\n",
              "    <tr>\n",
              "      <th>imagequality_Average</th>\n",
              "      <td>1</td>\n",
              "      <td>1</td>\n",
              "    </tr>\n",
              "    <tr>\n",
              "      <th>imagequality_Bad</th>\n",
              "      <td>0</td>\n",
              "      <td>0</td>\n",
              "    </tr>\n",
              "    <tr>\n",
              "      <th>imagequality_Good</th>\n",
              "      <td>0</td>\n",
              "      <td>0</td>\n",
              "    </tr>\n",
              "    <tr>\n",
              "      <th>age_15-25</th>\n",
              "      <td>0</td>\n",
              "      <td>0</td>\n",
              "    </tr>\n",
              "    <tr>\n",
              "      <th>age_25-35</th>\n",
              "      <td>0</td>\n",
              "      <td>0</td>\n",
              "    </tr>\n",
              "    <tr>\n",
              "      <th>age_35-45</th>\n",
              "      <td>1</td>\n",
              "      <td>1</td>\n",
              "    </tr>\n",
              "    <tr>\n",
              "      <th>age_45-55</th>\n",
              "      <td>0</td>\n",
              "      <td>0</td>\n",
              "    </tr>\n",
              "    <tr>\n",
              "      <th>age_55+</th>\n",
              "      <td>0</td>\n",
              "      <td>0</td>\n",
              "    </tr>\n",
              "    <tr>\n",
              "      <th>weight_normal-healthy</th>\n",
              "      <td>1</td>\n",
              "      <td>0</td>\n",
              "    </tr>\n",
              "    <tr>\n",
              "      <th>weight_over-weight</th>\n",
              "      <td>0</td>\n",
              "      <td>1</td>\n",
              "    </tr>\n",
              "    <tr>\n",
              "      <th>weight_slightly-overweight</th>\n",
              "      <td>0</td>\n",
              "      <td>0</td>\n",
              "    </tr>\n",
              "    <tr>\n",
              "      <th>weight_underweight</th>\n",
              "      <td>0</td>\n",
              "      <td>0</td>\n",
              "    </tr>\n",
              "    <tr>\n",
              "      <th>carryingbag_Daily/Office/Work Bag</th>\n",
              "      <td>0</td>\n",
              "      <td>0</td>\n",
              "    </tr>\n",
              "    <tr>\n",
              "      <th>carryingbag_Grocery/Home/Plastic Bag</th>\n",
              "      <td>1</td>\n",
              "      <td>0</td>\n",
              "    </tr>\n",
              "    <tr>\n",
              "      <th>carryingbag_None</th>\n",
              "      <td>0</td>\n",
              "      <td>1</td>\n",
              "    </tr>\n",
              "    <tr>\n",
              "      <th>footwear_CantSee</th>\n",
              "      <td>0</td>\n",
              "      <td>0</td>\n",
              "    </tr>\n",
              "    <tr>\n",
              "      <th>footwear_Fancy</th>\n",
              "      <td>0</td>\n",
              "      <td>0</td>\n",
              "    </tr>\n",
              "    <tr>\n",
              "      <th>footwear_Normal</th>\n",
              "      <td>1</td>\n",
              "      <td>1</td>\n",
              "    </tr>\n",
              "    <tr>\n",
              "      <th>emotion_Angry/Serious</th>\n",
              "      <td>0</td>\n",
              "      <td>1</td>\n",
              "    </tr>\n",
              "    <tr>\n",
              "      <th>emotion_Happy</th>\n",
              "      <td>0</td>\n",
              "      <td>0</td>\n",
              "    </tr>\n",
              "    <tr>\n",
              "      <th>emotion_Neutral</th>\n",
              "      <td>1</td>\n",
              "      <td>0</td>\n",
              "    </tr>\n",
              "    <tr>\n",
              "      <th>emotion_Sad</th>\n",
              "      <td>0</td>\n",
              "      <td>0</td>\n",
              "    </tr>\n",
              "    <tr>\n",
              "      <th>bodypose_Back</th>\n",
              "      <td>0</td>\n",
              "      <td>0</td>\n",
              "    </tr>\n",
              "    <tr>\n",
              "      <th>bodypose_Front-Frontish</th>\n",
              "      <td>1</td>\n",
              "      <td>1</td>\n",
              "    </tr>\n",
              "    <tr>\n",
              "      <th>bodypose_Side</th>\n",
              "      <td>0</td>\n",
              "      <td>0</td>\n",
              "    </tr>\n",
              "  </tbody>\n",
              "</table>\n",
              "</div>"
            ],
            "text/plain": [
              "                                                  0              1\n",
              "image_path                            resized/1.jpg  resized/2.jpg\n",
              "gender_female                                     0              1\n",
              "gender_male                                       1              0\n",
              "imagequality_Average                              1              1\n",
              "imagequality_Bad                                  0              0\n",
              "imagequality_Good                                 0              0\n",
              "age_15-25                                         0              0\n",
              "age_25-35                                         0              0\n",
              "age_35-45                                         1              1\n",
              "age_45-55                                         0              0\n",
              "age_55+                                           0              0\n",
              "weight_normal-healthy                             1              0\n",
              "weight_over-weight                                0              1\n",
              "weight_slightly-overweight                        0              0\n",
              "weight_underweight                                0              0\n",
              "carryingbag_Daily/Office/Work Bag                 0              0\n",
              "carryingbag_Grocery/Home/Plastic Bag              1              0\n",
              "carryingbag_None                                  0              1\n",
              "footwear_CantSee                                  0              0\n",
              "footwear_Fancy                                    0              0\n",
              "footwear_Normal                                   1              1\n",
              "emotion_Angry/Serious                             0              1\n",
              "emotion_Happy                                     0              0\n",
              "emotion_Neutral                                   1              0\n",
              "emotion_Sad                                       0              0\n",
              "bodypose_Back                                     0              0\n",
              "bodypose_Front-Frontish                           1              1\n",
              "bodypose_Side                                     0              0"
            ]
          },
          "metadata": {
            "tags": []
          },
          "execution_count": 62
        }
      ]
    },
    {
      "cell_type": "code",
      "metadata": {
        "id": "svipont67TZg",
        "colab_type": "code",
        "outputId": "fe77b609-1af1-4d30-84ad-c7ac39b61466",
        "colab": {
          "base_uri": "https://localhost:8080/",
          "height": 35
        }
      },
      "source": [
        "_gender_cols_ = [col for col in one_hot_df.columns if col.startswith(\"gender\")]\n",
        "_gender_cols_"
      ],
      "execution_count": 0,
      "outputs": [
        {
          "output_type": "execute_result",
          "data": {
            "text/plain": [
              "['gender_female', 'gender_male']"
            ]
          },
          "metadata": {
            "tags": []
          },
          "execution_count": 63
        }
      ]
    },
    {
      "cell_type": "code",
      "metadata": {
        "id": "kVL86EOH79W9",
        "colab_type": "code",
        "outputId": "98fd59c8-365d-4129-a774-16f1d1b3b9d2",
        "colab": {
          "base_uri": "https://localhost:8080/",
          "height": 35
        }
      },
      "source": [
        "type(_gender_cols_)"
      ],
      "execution_count": 0,
      "outputs": [
        {
          "output_type": "execute_result",
          "data": {
            "text/plain": [
              "list"
            ]
          },
          "metadata": {
            "tags": []
          },
          "execution_count": 64
        }
      ]
    },
    {
      "cell_type": "code",
      "metadata": {
        "id": "0ll94zTv6w5i",
        "colab_type": "code",
        "colab": {}
      },
      "source": [
        "import keras\n",
        "import numpy as np\n",
        "\n",
        "# List comprehension [col for col in one_hot_df.columns if col.startswith(\"gender\")] helps to select column names starting with 'gender' and\n",
        "# put in a list\n",
        "# Label columns per attribute\n",
        "_gender_cols_ = [col for col in one_hot_df.columns if col.startswith(\"gender\")]\n",
        "_imagequality_cols_ = [col for col in one_hot_df.columns if col.startswith(\"imagequality\")]\n",
        "_age_cols_ = [col for col in one_hot_df.columns if col.startswith(\"age\")]\n",
        "_weight_cols_ = [col for col in one_hot_df.columns if col.startswith(\"weight\")]\n",
        "_carryingbag_cols_ = [col for col in one_hot_df.columns if col.startswith(\"carryingbag\")]\n",
        "_footwear_cols_ = [col for col in one_hot_df.columns if col.startswith(\"footwear\")]\n",
        "_emotion_cols_ = [col for col in one_hot_df.columns if col.startswith(\"emotion\")]\n",
        "_bodypose_cols_ = [col for col in one_hot_df.columns if col.startswith(\"bodypose\")]\n",
        "\n",
        "class PersonDataGenerator(keras.utils.Sequence):\n",
        "    \"\"\"Ground truth data generator\"\"\"\n",
        "\n",
        "    \n",
        "    def __init__(self, df, batch_size=32, shuffle=True,augmentation=None,incl_orig=False):\n",
        "        self.df = df\n",
        "        self.batch_size=batch_size\n",
        "        self.shuffle = shuffle\n",
        "        self.on_epoch_end()\n",
        "        self.augmentation = augmentation\n",
        "        self.incl_orig = incl_orig\n",
        "\n",
        "# __len__ is a must function we need to give for keras sequence class, which will return number of batches in sequence \n",
        "\n",
        "    def __len__(self):\n",
        "        return int(np.floor(self.df.shape[0] / self.batch_size))\n",
        "\n",
        "# __getitem__ is a must function we need to give for keras sequence class, which will generate one batch of data\n",
        "# index : Denotes index of batch\n",
        "\n",
        "    def __getitem__(self, index):\n",
        "        \"\"\"fetch batched images and targets\"\"\"\n",
        " #       print('index',index)\n",
        "        batch_slice = slice(index * self.batch_size, (index + 1) * self.batch_size)\n",
        " #       print('batch_slice',batch_slice)\n",
        "        items = self.df.iloc[batch_slice]\n",
        " #       print('items:',items)\n",
        "        # 'items' is a df generated from main df based on batch_size. \n",
        "        # items.iterrows() will take item['image_path'] and fetch it to cv2.imread(). '_' means ignore the index we get back from iterrows()\n",
        "        # cv2.imread() will convert it to a numpy array which can be used by python\n",
        "        image = np.stack([cv2.imread(item[\"image_path\"]) for _, item in items.iterrows()])\n",
        "\n",
        "        if self.augmentation is not None:\n",
        "          self.augmentation.fit(image)\n",
        "          image = self.augmentation.flow(image).next()\n",
        "\n",
        "        # target is a dictionary. Against each key it keeps a tab of how many sub-categories each category has.\n",
        "        target = {\n",
        "            \"gender_output\": items[_gender_cols_].values,\n",
        "            \"image_quality_output\": items[_imagequality_cols_].values,\n",
        "            \"age_output\": items[_age_cols_].values,\n",
        "            \"weight_output\": items[_weight_cols_].values,\n",
        "            \"bag_output\": items[_carryingbag_cols_].values,\n",
        "            \"pose_output\": items[_bodypose_cols_].values,\n",
        "            \"footwear_output\": items[_footwear_cols_].values,\n",
        "            \"emotion_output\": items[_emotion_cols_].values,\n",
        "        }\n",
        "        return image, target\n",
        "\n",
        "# on_epoch_end is a must function we need to give for keras sequence class, it will change index of batch after each epoch\n",
        "# self.df.sample -> Return a random sample of items from the input df.\n",
        "# frac = 1 denotes to return whole fraction of axis items\n",
        "# reset_index(drop=True) drops the current index of the DataFrame and replaces it with an index of increasing integers\n",
        "\n",
        "    def on_epoch_end(self):\n",
        "        \"\"\"Updates indexes after each epoch\"\"\"\n",
        "        if self.shuffle == True:\n",
        "            self.df = self.df.sample(frac=1).reset_index(drop=True)\n"
      ],
      "execution_count": 0,
      "outputs": []
    },
    {
      "cell_type": "code",
      "metadata": {
        "id": "9ybL-WdltZfS",
        "colab_type": "code",
        "colab": {}
      },
      "source": [
        "def get_random_eraser(p=0.5, s_l=0.02, s_h=0.4, r_1=0.3, r_2=1/0.3, v_l=0, v_h=255, pixel_level=False):\n",
        "    def eraser(input_img):\n",
        "        img_h, img_w, img_c = input_img.shape\n",
        "        p_1 = np.random.rand()\n",
        "\n",
        "        if p_1 > p:\n",
        "            return input_img\n",
        "\n",
        "        while True:\n",
        "            s = np.random.uniform(s_l, s_h) * img_h * img_w\n",
        "            r = np.random.uniform(r_1, r_2)\n",
        "            w = int(np.sqrt(s / r))\n",
        "            h = int(np.sqrt(s * r))\n",
        "            left = np.random.randint(0, img_w)\n",
        "            top = np.random.randint(0, img_h)\n",
        "\n",
        "            if left + w <= img_w and top + h <= img_h:\n",
        "                break\n",
        "\n",
        "        if pixel_level:\n",
        "            c = np.random.uniform(v_l, v_h, (h, w, img_c))\n",
        "        else:\n",
        "            c = np.random.uniform(v_l, v_h)\n",
        "\n",
        "        input_img[top:top + h, left:left + w, :] = c\n",
        "\n",
        "        return input_img\n",
        "\n",
        "    return eraser"
      ],
      "execution_count": 0,
      "outputs": []
    },
    {
      "cell_type": "code",
      "metadata": {
        "id": "yVE8-OaZ8J5q",
        "colab_type": "code",
        "outputId": "814933a7-cf11-49ed-fec6-fcab581e73b3",
        "colab": {
          "base_uri": "https://localhost:8080/",
          "height": 35
        }
      },
      "source": [
        "# giving random state as 42 to avoid data leak\n",
        "# Else validation data will leak into train data & viceversa leading to high accuracies. Model will perform poor in unseen data in such cases\n",
        "from sklearn.model_selection import train_test_split\n",
        "train_df, val_df = train_test_split(one_hot_df, test_size=0.15,random_state=42)\n",
        "train_df.shape, val_df.shape"
      ],
      "execution_count": 0,
      "outputs": [
        {
          "output_type": "execute_result",
          "data": {
            "text/plain": [
              "((11537, 28), (2036, 28))"
            ]
          },
          "metadata": {
            "tags": []
          },
          "execution_count": 68
        }
      ]
    },
    {
      "cell_type": "code",
      "metadata": {
        "id": "K5m15DLyF2ot",
        "colab_type": "code",
        "outputId": "811b8e83-10d0-4363-c4db-a11dc072c1c9",
        "colab": {
          "base_uri": "https://localhost:8080/",
          "height": 147
        }
      },
      "source": [
        "train_df.head(2)"
      ],
      "execution_count": 0,
      "outputs": [
        {
          "output_type": "execute_result",
          "data": {
            "text/html": [
              "<div>\n",
              "<style scoped>\n",
              "    .dataframe tbody tr th:only-of-type {\n",
              "        vertical-align: middle;\n",
              "    }\n",
              "\n",
              "    .dataframe tbody tr th {\n",
              "        vertical-align: top;\n",
              "    }\n",
              "\n",
              "    .dataframe thead th {\n",
              "        text-align: right;\n",
              "    }\n",
              "</style>\n",
              "<table border=\"1\" class=\"dataframe\">\n",
              "  <thead>\n",
              "    <tr style=\"text-align: right;\">\n",
              "      <th></th>\n",
              "      <th>image_path</th>\n",
              "      <th>gender_female</th>\n",
              "      <th>gender_male</th>\n",
              "      <th>imagequality_Average</th>\n",
              "      <th>imagequality_Bad</th>\n",
              "      <th>imagequality_Good</th>\n",
              "      <th>age_15-25</th>\n",
              "      <th>age_25-35</th>\n",
              "      <th>age_35-45</th>\n",
              "      <th>age_45-55</th>\n",
              "      <th>age_55+</th>\n",
              "      <th>weight_normal-healthy</th>\n",
              "      <th>weight_over-weight</th>\n",
              "      <th>weight_slightly-overweight</th>\n",
              "      <th>weight_underweight</th>\n",
              "      <th>carryingbag_Daily/Office/Work Bag</th>\n",
              "      <th>carryingbag_Grocery/Home/Plastic Bag</th>\n",
              "      <th>carryingbag_None</th>\n",
              "      <th>footwear_CantSee</th>\n",
              "      <th>footwear_Fancy</th>\n",
              "      <th>footwear_Normal</th>\n",
              "      <th>emotion_Angry/Serious</th>\n",
              "      <th>emotion_Happy</th>\n",
              "      <th>emotion_Neutral</th>\n",
              "      <th>emotion_Sad</th>\n",
              "      <th>bodypose_Back</th>\n",
              "      <th>bodypose_Front-Frontish</th>\n",
              "      <th>bodypose_Side</th>\n",
              "    </tr>\n",
              "  </thead>\n",
              "  <tbody>\n",
              "    <tr>\n",
              "      <th>10416</th>\n",
              "      <td>resized/10418.jpg</td>\n",
              "      <td>0</td>\n",
              "      <td>1</td>\n",
              "      <td>1</td>\n",
              "      <td>0</td>\n",
              "      <td>0</td>\n",
              "      <td>0</td>\n",
              "      <td>1</td>\n",
              "      <td>0</td>\n",
              "      <td>0</td>\n",
              "      <td>0</td>\n",
              "      <td>1</td>\n",
              "      <td>0</td>\n",
              "      <td>0</td>\n",
              "      <td>0</td>\n",
              "      <td>0</td>\n",
              "      <td>0</td>\n",
              "      <td>1</td>\n",
              "      <td>0</td>\n",
              "      <td>0</td>\n",
              "      <td>1</td>\n",
              "      <td>0</td>\n",
              "      <td>0</td>\n",
              "      <td>1</td>\n",
              "      <td>0</td>\n",
              "      <td>1</td>\n",
              "      <td>0</td>\n",
              "      <td>0</td>\n",
              "    </tr>\n",
              "    <tr>\n",
              "      <th>3495</th>\n",
              "      <td>resized/3496.jpg</td>\n",
              "      <td>0</td>\n",
              "      <td>1</td>\n",
              "      <td>0</td>\n",
              "      <td>0</td>\n",
              "      <td>1</td>\n",
              "      <td>0</td>\n",
              "      <td>1</td>\n",
              "      <td>0</td>\n",
              "      <td>0</td>\n",
              "      <td>0</td>\n",
              "      <td>1</td>\n",
              "      <td>0</td>\n",
              "      <td>0</td>\n",
              "      <td>0</td>\n",
              "      <td>0</td>\n",
              "      <td>0</td>\n",
              "      <td>1</td>\n",
              "      <td>1</td>\n",
              "      <td>0</td>\n",
              "      <td>0</td>\n",
              "      <td>0</td>\n",
              "      <td>0</td>\n",
              "      <td>1</td>\n",
              "      <td>0</td>\n",
              "      <td>1</td>\n",
              "      <td>0</td>\n",
              "      <td>0</td>\n",
              "    </tr>\n",
              "  </tbody>\n",
              "</table>\n",
              "</div>"
            ],
            "text/plain": [
              "              image_path  gender_female  ...  bodypose_Front-Frontish  bodypose_Side\n",
              "10416  resized/10418.jpg              0  ...                        0              0\n",
              "3495    resized/3496.jpg              0  ...                        0              0\n",
              "\n",
              "[2 rows x 28 columns]"
            ]
          },
          "metadata": {
            "tags": []
          },
          "execution_count": 69
        }
      ]
    },
    {
      "cell_type": "code",
      "metadata": {
        "id": "oTiOi5tVBnhS",
        "colab_type": "code",
        "colab": {}
      },
      "source": [
        "# create train and validation data generators\n",
        "train_gen = PersonDataGenerator(train_df, batch_size=32, \n",
        "                                augmentation=ImageDataGenerator(rescale=1./255,\n",
        "                                                                featurewise_center=True,\n",
        "                                                                featurewise_std_normalization=True,\n",
        "                                                                horizontal_flip=True,vertical_flip=False,rotation_range=90,width_shift_range=.2,\n",
        "                                                                preprocessing_function=get_random_eraser(v_l=1, v_h=1)),incl_orig=True)\n",
        "valid_gen = PersonDataGenerator(val_df, batch_size=32, shuffle=False,\n",
        "                                augmentation=ImageDataGenerator(rescale=1./255,\n",
        "                                                                featurewise_center=True,\n",
        "                                                                featurewise_std_normalization=True))"
      ],
      "execution_count": 0,
      "outputs": []
    },
    {
      "cell_type": "code",
      "metadata": {
        "id": "bMeuJBmRcElk",
        "colab_type": "code",
        "outputId": "7858ed36-f4e5-4619-ae72-6ff8561a28dc",
        "colab": {
          "base_uri": "https://localhost:8080/",
          "height": 1000
        }
      },
      "source": [
        "for i in range(3):\n",
        "  cv2_imshow(train_gen[i][0][0])"
      ],
      "execution_count": 0,
      "outputs": [
        {
          "output_type": "stream",
          "text": [
            "index 0\n",
            "batch_slice slice(0, 32, None)\n",
            "items:            image_path  gender_female  ...  bodypose_Front-Frontish  bodypose_Side\n",
            "0    resized/6551.jpg              1  ...                        0              0\n",
            "1    resized/5394.jpg              0  ...                        1              0\n",
            "2    resized/5292.jpg              0  ...                        0              1\n",
            "3    resized/2328.jpg              0  ...                        0              0\n",
            "4   resized/13561.jpg              0  ...                        0              1\n",
            "5   resized/11191.jpg              1  ...                        0              0\n",
            "6    resized/3746.jpg              1  ...                        0              1\n",
            "7    resized/9017.jpg              1  ...                        1              0\n",
            "8    resized/7095.jpg              0  ...                        1              0\n",
            "9    resized/8529.jpg              0  ...                        1              0\n",
            "10   resized/5914.jpg              1  ...                        1              0\n",
            "11   resized/1295.jpg              0  ...                        0              1\n",
            "12   resized/2285.jpg              0  ...                        1              0\n",
            "13  resized/11390.jpg              1  ...                        0              0\n",
            "14  resized/12784.jpg              0  ...                        0              0\n",
            "15   resized/9912.jpg              1  ...                        1              0\n",
            "16   resized/6011.jpg              1  ...                        1              0\n",
            "17   resized/1085.jpg              1  ...                        1              0\n",
            "18    resized/601.jpg              0  ...                        0              1\n",
            "19    resized/771.jpg              1  ...                        1              0\n",
            "20   resized/9233.jpg              1  ...                        1              0\n",
            "21  resized/10270.jpg              1  ...                        0              1\n",
            "22   resized/5198.jpg              1  ...                        1              0\n",
            "23   resized/6745.jpg              0  ...                        0              1\n",
            "24   resized/9260.jpg              1  ...                        1              0\n",
            "25  resized/11447.jpg              0  ...                        0              0\n",
            "26   resized/5346.jpg              1  ...                        1              0\n",
            "27   resized/8700.jpg              0  ...                        0              1\n",
            "28   resized/8132.jpg              0  ...                        0              1\n",
            "29  resized/11948.jpg              0  ...                        0              0\n",
            "30   resized/9878.jpg              0  ...                        1              0\n",
            "31   resized/2453.jpg              0  ...                        1              0\n",
            "\n",
            "[32 rows x 28 columns]\n"
          ],
          "name": "stdout"
        },
        {
          "output_type": "display_data",
          "data": {
            "image/png": "[encoded data removed]",
            "text/plain": [
              "<PIL.Image.Image image mode=RGB size=224x224 at 0x7FBC4BA1E390>"
            ]
          },
          "metadata": {
            "tags": []
          }
        },
        {
          "output_type": "stream",
          "text": [
            "index 1\n",
            "batch_slice slice(32, 64, None)\n",
            "items:            image_path  gender_female  ...  bodypose_Front-Frontish  bodypose_Side\n",
            "32   resized/1578.jpg              0  ...                        0              1\n",
            "33   resized/6544.jpg              0  ...                        1              0\n",
            "34   resized/7120.jpg              1  ...                        0              0\n",
            "35   resized/3800.jpg              0  ...                        1              0\n",
            "36   resized/4496.jpg              1  ...                        1              0\n",
            "37   resized/6156.jpg              1  ...                        1              0\n",
            "38   resized/9114.jpg              0  ...                        1              0\n",
            "39   resized/1630.jpg              0  ...                        1              0\n",
            "40  resized/10422.jpg              0  ...                        1              0\n",
            "41   resized/7375.jpg              0  ...                        1              0\n",
            "42   resized/7115.jpg              0  ...                        0              0\n",
            "43  resized/12105.jpg              0  ...                        1              0\n",
            "44    resized/617.jpg              0  ...                        0              1\n",
            "45  resized/13335.jpg              1  ...                        1              0\n",
            "46  resized/11483.jpg              0  ...                        1              0\n",
            "47   resized/3907.jpg              1  ...                        1              0\n",
            "48  resized/13104.jpg              0  ...                        1              0\n",
            "49   resized/1703.jpg              0  ...                        0              1\n",
            "50   resized/1495.jpg              1  ...                        1              0\n",
            "51   resized/5377.jpg              0  ...                        1              0\n",
            "52   resized/3785.jpg              0  ...                        0              0\n",
            "53   resized/4894.jpg              0  ...                        1              0\n",
            "54   resized/6515.jpg              0  ...                        1              0\n",
            "55   resized/6447.jpg              1  ...                        1              0\n",
            "56   resized/4120.jpg              0  ...                        1              0\n",
            "57    resized/497.jpg              0  ...                        1              0\n",
            "58   resized/4900.jpg              1  ...                        0              1\n",
            "59   resized/2385.jpg              1  ...                        0              0\n",
            "60   resized/8386.jpg              1  ...                        1              0\n",
            "61   resized/9203.jpg              1  ...                        1              0\n",
            "62   resized/4145.jpg              0  ...                        0              1\n",
            "63  resized/10814.jpg              1  ...                        1              0\n",
            "\n",
            "[32 rows x 28 columns]\n"
          ],
          "name": "stdout"
        },
        {
          "output_type": "display_data",
          "data": {
            "image/png": "[encoded data removed]",
            "text/plain": [
              "<PIL.Image.Image image mode=RGB size=224x224 at 0x7FBC4BA37320>"
            ]
          },
          "metadata": {
            "tags": []
          }
        },
        {
          "output_type": "stream",
          "text": [
            "index 2\n",
            "batch_slice slice(64, 96, None)\n",
            "items:            image_path  gender_female  ...  bodypose_Front-Frontish  bodypose_Side\n",
            "64   resized/2649.jpg              1  ...                        1              0\n",
            "65   resized/9985.jpg              1  ...                        1              0\n",
            "66   resized/4268.jpg              1  ...                        1              0\n",
            "67   resized/6776.jpg              0  ...                        0              1\n",
            "68   resized/5324.jpg              1  ...                        0              1\n",
            "69  resized/10894.jpg              1  ...                        0              0\n",
            "70   resized/6119.jpg              0  ...                        1              0\n",
            "71   resized/3667.jpg              1  ...                        1              0\n",
            "72   resized/9832.jpg              1  ...                        1              0\n",
            "73   resized/5584.jpg              0  ...                        1              0\n",
            "74   resized/5526.jpg              0  ...                        1              0\n",
            "75   resized/4436.jpg              1  ...                        0              1\n",
            "76  resized/11953.jpg              0  ...                        1              0\n",
            "77  resized/10336.jpg              1  ...                        1              0\n",
            "78   resized/2791.jpg              1  ...                        1              0\n",
            "79  resized/10013.jpg              0  ...                        0              1\n",
            "80   resized/9413.jpg              1  ...                        1              0\n",
            "81  resized/12277.jpg              0  ...                        1              0\n",
            "82   resized/9358.jpg              0  ...                        1              0\n",
            "83   resized/6821.jpg              0  ...                        1              0\n",
            "84  resized/12924.jpg              0  ...                        0              1\n",
            "85   resized/6604.jpg              1  ...                        1              0\n",
            "86   resized/3916.jpg              0  ...                        1              0\n",
            "87   resized/7382.jpg              0  ...                        1              0\n",
            "88   resized/5677.jpg              0  ...                        0              0\n",
            "89   resized/7543.jpg              1  ...                        0              1\n",
            "90   resized/2029.jpg              0  ...                        1              0\n",
            "91   resized/2340.jpg              0  ...                        1              0\n",
            "92   resized/1712.jpg              0  ...                        1              0\n",
            "93   resized/4173.jpg              0  ...                        0              1\n",
            "94   resized/5115.jpg              0  ...                        0              1\n",
            "95  resized/13057.jpg              0  ...                        1              0\n",
            "\n",
            "[32 rows x 28 columns]\n"
          ],
          "name": "stdout"
        },
        {
          "output_type": "display_data",
          "data": {
            "image/png": "[encoded data removed]",
            "text/plain": [
              "<PIL.Image.Image image mode=RGB size=224x224 at 0x7FBC4C260D68>"
            ]
          },
          "metadata": {
            "tags": []
          }
        }
      ]
    },
    {
      "cell_type": "code",
      "metadata": {
        "id": "2pMDGat-Ghow",
        "colab_type": "code",
        "outputId": "2464296e-62af-41c2-c1c0-39734950e21c",
        "colab": {
          "base_uri": "https://localhost:8080/",
          "height": 797
        }
      },
      "source": [
        "# get number of output units from data\n",
        "images, targets = next(iter(train_gen))\n",
        "# targets is a dictionary that we get from person data generator.\n",
        "# k will get key value 'age_output' which will be split to get 'age' only\n",
        "# v will get value of disctionary. We will take how many columns are there in v to understand classes within each class. eg: v.shape[1] will be 2\n",
        "# for key 'gender_output' because there are 2 sub-categories 'male' & 'female\n",
        "# these num_units will be later used to build the final model via build_head function\n",
        "num_units = { k.split(\"_output\")[0]:v.shape[1] for k, v in targets.items()}\n",
        "num_units"
      ],
      "execution_count": 0,
      "outputs": [
        {
          "output_type": "stream",
          "text": [
            "index 0\n",
            "batch_slice slice(0, 32, None)\n",
            "items:            image_path  gender_female  ...  bodypose_Front-Frontish  bodypose_Side\n",
            "0    resized/6551.jpg              1  ...                        0              0\n",
            "1    resized/5394.jpg              0  ...                        1              0\n",
            "2    resized/5292.jpg              0  ...                        0              1\n",
            "3    resized/2328.jpg              0  ...                        0              0\n",
            "4   resized/13561.jpg              0  ...                        0              1\n",
            "5   resized/11191.jpg              1  ...                        0              0\n",
            "6    resized/3746.jpg              1  ...                        0              1\n",
            "7    resized/9017.jpg              1  ...                        1              0\n",
            "8    resized/7095.jpg              0  ...                        1              0\n",
            "9    resized/8529.jpg              0  ...                        1              0\n",
            "10   resized/5914.jpg              1  ...                        1              0\n",
            "11   resized/1295.jpg              0  ...                        0              1\n",
            "12   resized/2285.jpg              0  ...                        1              0\n",
            "13  resized/11390.jpg              1  ...                        0              0\n",
            "14  resized/12784.jpg              0  ...                        0              0\n",
            "15   resized/9912.jpg              1  ...                        1              0\n",
            "16   resized/6011.jpg              1  ...                        1              0\n",
            "17   resized/1085.jpg              1  ...                        1              0\n",
            "18    resized/601.jpg              0  ...                        0              1\n",
            "19    resized/771.jpg              1  ...                        1              0\n",
            "20   resized/9233.jpg              1  ...                        1              0\n",
            "21  resized/10270.jpg              1  ...                        0              1\n",
            "22   resized/5198.jpg              1  ...                        1              0\n",
            "23   resized/6745.jpg              0  ...                        0              1\n",
            "24   resized/9260.jpg              1  ...                        1              0\n",
            "25  resized/11447.jpg              0  ...                        0              0\n",
            "26   resized/5346.jpg              1  ...                        1              0\n",
            "27   resized/8700.jpg              0  ...                        0              1\n",
            "28   resized/8132.jpg              0  ...                        0              1\n",
            "29  resized/11948.jpg              0  ...                        0              0\n",
            "30   resized/9878.jpg              0  ...                        1              0\n",
            "31   resized/2453.jpg              0  ...                        1              0\n",
            "\n",
            "[32 rows x 28 columns]\n"
          ],
          "name": "stdout"
        },
        {
          "output_type": "execute_result",
          "data": {
            "text/plain": [
              "{'age': 5,\n",
              " 'bag': 3,\n",
              " 'emotion': 4,\n",
              " 'footwear': 3,\n",
              " 'gender': 2,\n",
              " 'image_quality': 3,\n",
              " 'pose': 3,\n",
              " 'weight': 4}"
            ]
          },
          "metadata": {
            "tags": []
          },
          "execution_count": 72
        }
      ]
    },
    {
      "cell_type": "code",
      "metadata": {
        "id": "NuJN10vP9bYX",
        "colab_type": "code",
        "outputId": "12504740-890f-4090-d7be-dab24fb3ea97",
        "colab": {
          "base_uri": "https://localhost:8080/",
          "height": 178
        }
      },
      "source": [
        "one_hot_df.head(3)"
      ],
      "execution_count": 0,
      "outputs": [
        {
          "output_type": "execute_result",
          "data": {
            "text/html": [
              "<div>\n",
              "<style scoped>\n",
              "    .dataframe tbody tr th:only-of-type {\n",
              "        vertical-align: middle;\n",
              "    }\n",
              "\n",
              "    .dataframe tbody tr th {\n",
              "        vertical-align: top;\n",
              "    }\n",
              "\n",
              "    .dataframe thead th {\n",
              "        text-align: right;\n",
              "    }\n",
              "</style>\n",
              "<table border=\"1\" class=\"dataframe\">\n",
              "  <thead>\n",
              "    <tr style=\"text-align: right;\">\n",
              "      <th></th>\n",
              "      <th>image_path</th>\n",
              "      <th>gender_female</th>\n",
              "      <th>gender_male</th>\n",
              "      <th>imagequality_Average</th>\n",
              "      <th>imagequality_Bad</th>\n",
              "      <th>imagequality_Good</th>\n",
              "      <th>age_15-25</th>\n",
              "      <th>age_25-35</th>\n",
              "      <th>age_35-45</th>\n",
              "      <th>age_45-55</th>\n",
              "      <th>age_55+</th>\n",
              "      <th>weight_normal-healthy</th>\n",
              "      <th>weight_over-weight</th>\n",
              "      <th>weight_slightly-overweight</th>\n",
              "      <th>weight_underweight</th>\n",
              "      <th>carryingbag_Daily/Office/Work Bag</th>\n",
              "      <th>carryingbag_Grocery/Home/Plastic Bag</th>\n",
              "      <th>carryingbag_None</th>\n",
              "      <th>footwear_CantSee</th>\n",
              "      <th>footwear_Fancy</th>\n",
              "      <th>footwear_Normal</th>\n",
              "      <th>emotion_Angry/Serious</th>\n",
              "      <th>emotion_Happy</th>\n",
              "      <th>emotion_Neutral</th>\n",
              "      <th>emotion_Sad</th>\n",
              "      <th>bodypose_Back</th>\n",
              "      <th>bodypose_Front-Frontish</th>\n",
              "      <th>bodypose_Side</th>\n",
              "    </tr>\n",
              "  </thead>\n",
              "  <tbody>\n",
              "    <tr>\n",
              "      <th>0</th>\n",
              "      <td>resized/1.jpg</td>\n",
              "      <td>0</td>\n",
              "      <td>1</td>\n",
              "      <td>1</td>\n",
              "      <td>0</td>\n",
              "      <td>0</td>\n",
              "      <td>0</td>\n",
              "      <td>0</td>\n",
              "      <td>1</td>\n",
              "      <td>0</td>\n",
              "      <td>0</td>\n",
              "      <td>1</td>\n",
              "      <td>0</td>\n",
              "      <td>0</td>\n",
              "      <td>0</td>\n",
              "      <td>0</td>\n",
              "      <td>1</td>\n",
              "      <td>0</td>\n",
              "      <td>0</td>\n",
              "      <td>0</td>\n",
              "      <td>1</td>\n",
              "      <td>0</td>\n",
              "      <td>0</td>\n",
              "      <td>1</td>\n",
              "      <td>0</td>\n",
              "      <td>0</td>\n",
              "      <td>1</td>\n",
              "      <td>0</td>\n",
              "    </tr>\n",
              "    <tr>\n",
              "      <th>1</th>\n",
              "      <td>resized/2.jpg</td>\n",
              "      <td>1</td>\n",
              "      <td>0</td>\n",
              "      <td>1</td>\n",
              "      <td>0</td>\n",
              "      <td>0</td>\n",
              "      <td>0</td>\n",
              "      <td>0</td>\n",
              "      <td>1</td>\n",
              "      <td>0</td>\n",
              "      <td>0</td>\n",
              "      <td>0</td>\n",
              "      <td>1</td>\n",
              "      <td>0</td>\n",
              "      <td>0</td>\n",
              "      <td>0</td>\n",
              "      <td>0</td>\n",
              "      <td>1</td>\n",
              "      <td>0</td>\n",
              "      <td>0</td>\n",
              "      <td>1</td>\n",
              "      <td>1</td>\n",
              "      <td>0</td>\n",
              "      <td>0</td>\n",
              "      <td>0</td>\n",
              "      <td>0</td>\n",
              "      <td>1</td>\n",
              "      <td>0</td>\n",
              "    </tr>\n",
              "    <tr>\n",
              "      <th>2</th>\n",
              "      <td>resized/3.jpg</td>\n",
              "      <td>0</td>\n",
              "      <td>1</td>\n",
              "      <td>0</td>\n",
              "      <td>0</td>\n",
              "      <td>1</td>\n",
              "      <td>0</td>\n",
              "      <td>0</td>\n",
              "      <td>0</td>\n",
              "      <td>1</td>\n",
              "      <td>0</td>\n",
              "      <td>1</td>\n",
              "      <td>0</td>\n",
              "      <td>0</td>\n",
              "      <td>0</td>\n",
              "      <td>0</td>\n",
              "      <td>1</td>\n",
              "      <td>0</td>\n",
              "      <td>1</td>\n",
              "      <td>0</td>\n",
              "      <td>0</td>\n",
              "      <td>0</td>\n",
              "      <td>0</td>\n",
              "      <td>1</td>\n",
              "      <td>0</td>\n",
              "      <td>0</td>\n",
              "      <td>1</td>\n",
              "      <td>0</td>\n",
              "    </tr>\n",
              "  </tbody>\n",
              "</table>\n",
              "</div>"
            ],
            "text/plain": [
              "      image_path  gender_female  ...  bodypose_Front-Frontish  bodypose_Side\n",
              "0  resized/1.jpg              0  ...                        1              0\n",
              "1  resized/2.jpg              1  ...                        1              0\n",
              "2  resized/3.jpg              0  ...                        1              0\n",
              "\n",
              "[3 rows x 28 columns]"
            ]
          },
          "metadata": {
            "tags": []
          },
          "execution_count": 73
        }
      ]
    },
    {
      "cell_type": "code",
      "metadata": {
        "id": "OLiD4Kqe9kJ1",
        "colab_type": "code",
        "outputId": "dada6d01-982f-4acd-9bce-a431da19a922",
        "colab": {
          "base_uri": "https://localhost:8080/",
          "height": 35
        }
      },
      "source": [
        "print(one_hot_df[one_hot_df['age_35-45'] == 1].shape[0])"
      ],
      "execution_count": 0,
      "outputs": [
        {
          "output_type": "stream",
          "text": [
            "3435\n"
          ],
          "name": "stdout"
        }
      ]
    },
    {
      "cell_type": "code",
      "metadata": {
        "id": "bEeo-DwpDBZv",
        "colab_type": "code",
        "outputId": "180f66d3-1093-452d-c0c9-ba51d842eaae",
        "colab": {
          "base_uri": "https://localhost:8080/",
          "height": 503
        }
      },
      "source": [
        "col_names = list(one_hot_df.columns.values)\n",
        "len(col_names)\n",
        "i = 0\n",
        "for i in range(len(col_names)):\n",
        "    print(col_names[i],one_hot_df[one_hot_df[col_names[i]] == 1].shape[0])"
      ],
      "execution_count": 0,
      "outputs": [
        {
          "output_type": "stream",
          "text": [
            "image_path 0\n",
            "gender_female 5937\n",
            "gender_male 7636\n",
            "imagequality_Average 7509\n",
            "imagequality_Bad 2240\n",
            "imagequality_Good 3824\n",
            "age_15-25 2494\n",
            "age_25-35 5411\n",
            "age_35-45 3435\n",
            "age_45-55 1490\n",
            "age_55+ 743\n",
            "weight_normal-healthy 8628\n",
            "weight_over-weight 891\n",
            "weight_slightly-overweight 3196\n",
            "weight_underweight 858\n",
            "carryingbag_Daily/Office/Work Bag 4603\n",
            "carryingbag_Grocery/Home/Plastic Bag 1321\n",
            "carryingbag_None 7649\n",
            "footwear_CantSee 5028\n",
            "footwear_Fancy 2507\n",
            "footwear_Normal 6038\n",
            "emotion_Angry/Serious 1500\n",
            "emotion_Happy 1609\n",
            "emotion_Neutral 9660\n",
            "emotion_Sad 804\n",
            "bodypose_Back 2207\n",
            "bodypose_Front-Frontish 8383\n",
            "bodypose_Side 2983\n"
          ],
          "name": "stdout"
        }
      ]
    },
    {
      "cell_type": "code",
      "metadata": {
        "id": "iucixj48GMKO",
        "colab_type": "code",
        "outputId": "52e1cdbc-1f3c-4463-a861-38814fa64774",
        "colab": {
          "base_uri": "https://localhost:8080/",
          "height": 259
        }
      },
      "source": [
        "# To check if images are getting read correctly\n",
        "from google.colab.patches import cv2_imshow\n",
        "img = cv2.imread('resized/9213.jpg',0)\n",
        "cv2_imshow(img)\n",
        "print('type::',type(img))"
      ],
      "execution_count": 0,
      "outputs": [
        {
          "output_type": "display_data",
          "data": {
            "image/png": "[encoded data removed]",
            "text/plain": [
              "<PIL.Image.Image image mode=L size=224x224 at 0x7FBCC642CE10>"
            ]
          },
          "metadata": {
            "tags": []
          }
        },
        {
          "output_type": "stream",
          "text": [
            "type:: <class 'numpy.ndarray'>\n"
          ],
          "name": "stdout"
        }
      ]
    },
    {
      "cell_type": "code",
      "metadata": {
        "id": "03W8Pagg_Ppp",
        "colab_type": "code",
        "outputId": "27646900-d5ac-4c09-85ab-99157a402162",
        "colab": {
          "base_uri": "https://localhost:8080/",
          "height": 72
        }
      },
      "source": [
        "backbone = ResNet50(\n",
        "    weights=None, \n",
        "    include_top=False, \n",
        "    input_tensor=Input(shape=(224, 224, 3))\n",
        ")"
      ],
      "execution_count": 0,
      "outputs": [
        {
          "output_type": "stream",
          "text": [
            "/usr/local/lib/python3.6/dist-packages/keras_applications/resnet50.py:265: UserWarning: The output shape of `ResNet50(include_top=False)` has been changed since Keras 2.2.0.\n",
            "  warnings.warn('The output shape of `ResNet50(include_top=False)` '\n"
          ],
          "name": "stderr"
        }
      ]
    },
    {
      "cell_type": "code",
      "metadata": {
        "id": "IGP0XsQynHwb",
        "colab_type": "code",
        "colab": {}
      },
      "source": [
        "neck = backbone.output  #backbone.output gives the last layer already build by VGG16 on the above statement (block5_maxpool)\n",
        "neck = Flatten(name=\"flattener\")(neck)  # Adds Flatten layer\n",
        "neck = Dense(512, activation=\"relu\")(neck) # Adds fully connected layer with Relu Activation"
      ],
      "execution_count": 0,
      "outputs": []
    },
    {
      "cell_type": "code",
      "metadata": {
        "id": "w9bAyT4enKf_",
        "colab_type": "code",
        "colab": {}
      },
      "source": [
        "def build_tower(in_layer,dp1,dense1,dp2,dense2,act2=None):\n",
        "    head = Dropout(dp1)(in_layer)\n",
        "    head = Dense(dense1, activation=\"relu\")(head)\n",
        "    head = Dropout(dp2)(head)\n",
        "    head = Dense(dense2, activation=act2)(head)\n",
        "    return head"
      ],
      "execution_count": 0,
      "outputs": []
    },
    {
      "cell_type": "code",
      "metadata": {
        "id": "SGBWltzD85nm",
        "colab_type": "code",
        "colab": {}
      },
      "source": [
        "def build_tower02(in_layer,dp1,dense1,act2=None):\n",
        "    head = Dropout(dp1)(in_layer)\n",
        "    head = Dense(dense1, activation=act2)(head)\n",
        "    return head"
      ],
      "execution_count": 0,
      "outputs": []
    },
    {
      "cell_type": "code",
      "metadata": {
        "id": "SSH1Z5wbnOQP",
        "colab_type": "code",
        "colab": {}
      },
      "source": [
        "def build_head(name, activator,in_layer):\n",
        "    return Dense(\n",
        "        num_units[name], activation=activator, name=f\"{name}_output\"\n",
        "    )(in_layer)"
      ],
      "execution_count": 0,
      "outputs": []
    },
    {
      "cell_type": "code",
      "metadata": {
        "id": "ZH3x4hu_nRfv",
        "colab_type": "code",
        "colab": {}
      },
      "source": [
        "# heads\n",
        "# Calls build_tower function with layers till previous point i.e. in_layer\n",
        "# For each multi-label class, build_tower adds to in_layer following - dropout -> fully connected layer -> droput -> fully connected layer &  \n",
        "# returns back to build_head.\n",
        "# Build_head applies a dense layer with softmax/sigmoid activation on top of this to give final output for that particular class. eg: gender, age etc.\n",
        "# 'M odel' API will use one 'neck' and connect one 'backbone'(VGG16) with 8 'heads'(below) which are built using build_head & build_tower\n",
        "\n",
        "# gender = build_head(\"gender\", \"sigmoid\", build_tower(neck))  #gender is binary classification\n",
        "# image_quality = build_head(\"image_quality\", \"softmax\",build_tower(neck)) # image is multi-class single label, can be either good, avg or bad\n",
        "# age = build_head(\"age\", \"softmax\",build_tower(neck))  # Age is regression to arbitrary value but here we are didving to groups like 15-25, 25-35, hence multi-class single label\n",
        "# weight = build_head(\"weight\", \"softmax\",build_tower(neck)) # weight is multi-class, single label as it can healthy, over or under\n",
        "# bag = build_head(\"bag\", \"softmax\",build_tower(neck))  # bag is multi-class, single label \n",
        "# footwear = build_head(\"footwear\",\"softmax\", build_tower(neck))  # multi-class, single label \n",
        "# emotion = build_head(\"emotion\", \"softmax\", build_tower(neck))  # multi-class, single label \n",
        "# pose = build_head(\"pose\", \"softmax\",build_tower(neck)) # multi-class, single label \n",
        "\n",
        "gender = build_head(\"gender\", \"softmax\", build_tower(neck,dp1=0.2,dense1=128,dp2=0.3,dense2=128,act2='relu'))  #gender is binary classification\n",
        "image_quality = build_head(\"image_quality\", \"sigmoid\",build_tower(neck,dp1=0.2,dense1=256,dp2=0.1,dense2=128)) # image is multi-class single label, can be either good, avg or bad\n",
        "age = build_head(\"age\", \"sigmoid\",build_tower(neck,dp1=0.2,dense1=256,dp2=0.1,dense2=128))  # Age is regression to arbitrary value but here we are didving to groups like 15-25, 25-35, hence multi-class single label\n",
        "weight = build_head(\"weight\", \"sigmoid\",build_tower(neck,dp1=0.2,dense1=256,dp2=0.1,dense2=128)) # weight is multi-class, single label as it can healthy, over or under\n",
        "bag = build_head(\"bag\", \"sigmoid\",build_tower(neck,dp1=0.2,dense1=256,dp2=0.1,dense2=128))  # bag is multi-class, single label \n",
        "footwear = build_head(\"footwear\",\"softmax\", build_tower(neck,dp1=0.2,dense1=256,dp2=0.1,dense2=128))  # multi-class, single label \n",
        "emotion = build_head(\"emotion\", \"sigmoid\", build_tower02(neck,dp1=0.2,dense1=256))  # multi-class, single label \n",
        "pose = build_head(\"pose\", \"sigmoid\",build_tower(neck,dp1=0.2,dense1=256,dp2=0.1,dense2=128)) # multi-class, single label"
      ],
      "execution_count": 0,
      "outputs": []
    },
    {
      "cell_type": "code",
      "metadata": {
        "id": "gjtxfJMDnUXe",
        "colab_type": "code",
        "colab": {}
      },
      "source": [
        "model = Model(\n",
        "    inputs=backbone.input, \n",
        "    outputs=[gender, image_quality, age, weight, bag, footwear, pose, emotion]\n",
        ")"
      ],
      "execution_count": 0,
      "outputs": []
    },
    {
      "cell_type": "code",
      "metadata": {
        "id": "SxWVxcbi_y6V",
        "colab_type": "code",
        "colab": {}
      },
      "source": [
        "# freeze backbone\n",
        "#for layer in backbone.layers:\n",
        "#\tprint(layer)\n",
        "#\tlayer.trainable = False"
      ],
      "execution_count": 0,
      "outputs": []
    },
    {
      "cell_type": "code",
      "metadata": {
        "id": "0XXgNIsENvmP",
        "colab_type": "code",
        "colab": {}
      },
      "source": [
        "from keras.utils import plot_model\n",
        "plot_model(model, show_shapes=True,to_file='model.png')"
      ],
      "execution_count": 0,
      "outputs": []
    },
    {
      "cell_type": "code",
      "metadata": {
        "id": "RfPG9C2eA1zn",
        "colab_type": "code",
        "colab": {}
      },
      "source": [
        "# losses = {\n",
        "# \t\"gender_output\": \"binary_crossentropy\",\n",
        "# \t\"image_quality_output\": \"categorical_crossentropy\",\n",
        "# \t\"age_output\": \"categorical_crossentropy\",\n",
        "# \t\"weight_output\": \"categorical_crossentropy\",\n",
        "\n",
        "# }\n",
        "# loss_weights = {\"gender_output\": 1.0, \"image_quality_output\": 1.0, \"age_output\": 1.0}\n",
        "from keras.optimizers import Adam\n",
        "from keras.callbacks import LearningRateScheduler\n",
        "def scheduler(epoch, lr):\n",
        "  return round(0.004 * 1/(1 + 0.319 * epoch), 10)\n",
        "opt = SGD(lr=0.003, momentum=0.9)\n",
        "#opt = SGD(momentum=0.5)\n",
        "model.compile(\n",
        "    optimizer=opt,\n",
        "#   loss = \"binary_crossentropy\",\n",
        "    loss={\"gender_output\":\"categorical_crossentropy\", \n",
        "          \"image_quality_output\":\"binary_crossentropy\",\n",
        "          \"age_output\":\"binary_crossentropy\",\n",
        "          \"weight_output\":\"binary_crossentropy\",\n",
        "          \"bag_output\":\"binary_crossentropy\",\n",
        "          \"emotion_output\": \"binary_crossentropy\",\n",
        "          \"pose_output\": \"binary_crossentropy\",\n",
        "          \"footwear_output\": \"binary_crossentropy\"},\n",
        "    # loss_weights=loss_weights, \n",
        "    metrics=[\"accuracy\"]\n",
        ")"
      ],
      "execution_count": 0,
      "outputs": []
    },
    {
      "cell_type": "code",
      "metadata": {
        "id": "zw2ZRIQ7BW-Q",
        "colab_type": "code",
        "colab": {}
      },
      "source": [
        "# model.fit(X_train, y_train, validation_data=(X_valid, y_valid), batch_size=32, epochs=10)\n",
        "model.summary()"
      ],
      "execution_count": 0,
      "outputs": []
    },
    {
      "cell_type": "code",
      "metadata": {
        "id": "rpxv41EyNmN4",
        "colab_type": "code",
        "outputId": "a9d8aefb-0fd1-4101-9efc-f01526cb5e71",
        "colab": {
          "base_uri": "https://localhost:8080/",
          "height": 141
        }
      },
      "source": [
        "model.fit_generator(\n",
        "    generator=train_gen,\n",
        "    validation_data=valid_gen,\n",
        "    use_multiprocessing=True,\n",
        "    workers=4, \n",
        "    epochs=2,\n",
        "    verbose=1)\n",
        "#    callbacks=[LearningRateScheduler(scheduler,verbose=1)])"
      ],
      "execution_count": 0,
      "outputs": [
        {
          "output_type": "stream",
          "text": [
            "Epoch 1/2\n",
            "359/360 [============================>.] - ETA: 0s - loss: 37.9462 - gender_output_loss: 7.0222 - image_quality_output_loss: 5.3727 - age_output_loss: 3.2236 - weight_output_loss: 2.9359 - bag_output_loss: 7.0849 - footwear_output_loss: 5.9072 - pose_output_loss: 4.0987 - emotion_output_loss: 2.3010 - gender_output_acc: 0.5643 - image_quality_output_acc: 0.6667 - age_output_acc: 0.8000 - weight_output_acc: 0.8169 - bag_output_acc: 0.5580 - footwear_output_acc: 0.6315 - pose_output_acc: 0.7443 - emotion_output_acc: 0.8565\n",
            "\n",
            "360/360 [==============================] - 212s 589ms/step - loss: 37.9336 - gender_output_loss: 7.0167 - image_quality_output_loss: 5.3727 - age_output_loss: 3.2236 - weight_output_loss: 2.9354 - bag_output_loss: 7.0847 - footwear_output_loss: 5.9047 - pose_output_loss: 4.0957 - emotion_output_loss: 2.3002 - gender_output_acc: 0.5647 - image_quality_output_acc: 0.6667 - age_output_acc: 0.8000 - weight_output_acc: 0.8169 - bag_output_acc: 0.5580 - footwear_output_acc: 0.6317 - pose_output_acc: 0.7445 - emotion_output_acc: 0.8565 - val_loss: 38.0934 - val_gender_output_loss: 7.2276 - val_image_quality_output_loss: 5.3727 - val_age_output_loss: 3.2236 - val_weight_output_loss: 2.8347 - val_bag_output_loss: 6.9390 - val_footwear_output_loss: 6.0697 - val_pose_output_loss: 4.0765 - val_emotion_output_loss: 2.3497 - val_gender_output_acc: 0.5516 - val_image_quality_output_acc: 0.6667 - val_age_output_acc: 0.8000 - val_weight_output_acc: 0.8232 - val_bag_output_acc: 0.5671 - val_footwear_output_acc: 0.6214 - val_pose_output_acc: 0.7457 - val_emotion_output_acc: 0.8534\n",
            "Epoch 2/2\n",
            "359/360 [============================>.] - ETA: 0s - loss: 37.9368 - gender_output_loss: 7.0180 - image_quality_output_loss: 5.3727 - age_output_loss: 3.2236 - weight_output_loss: 2.9345 - bag_output_loss: 7.0867 - footwear_output_loss: 5.9053 - pose_output_loss: 4.0950 - emotion_output_loss: 2.3010 - gender_output_acc: 0.5646 - image_quality_output_acc: 0.6667 - age_output_acc: 0.8000 - weight_output_acc: 0.8169 - bag_output_acc: 0.5579 - footwear_output_acc: 0.6316 - pose_output_acc: 0.7445 - emotion_output_acc: 0.8565"
          ],
          "name": "stdout"
        }
      ]
    },
    {
      "cell_type": "code",
      "metadata": {
        "id": "gM6n4pEYO0fQ",
        "colab_type": "code",
        "colab": {}
      },
      "source": [
        ""
      ],
      "execution_count": 0,
      "outputs": []
    },
    {
      "cell_type": "markdown",
      "metadata": {
        "id": "H72RHXbdOzmM",
        "colab_type": "text"
      },
      "source": [
        ""
      ]
    },
    {
      "cell_type": "code",
      "metadata": {
        "id": "zI1hJb4qM6OH",
        "colab_type": "code",
        "outputId": "4176d68b-eb9a-42c5-c9a5-56cdbd453559",
        "colab": {
          "base_uri": "https://localhost:8080/",
          "height": 35
        }
      },
      "source": [
        "model"
      ],
      "execution_count": 0,
      "outputs": [
        {
          "output_type": "execute_result",
          "data": {
            "text/plain": [
              "<keras.engine.training.Model at 0x7f36987ad860>"
            ]
          },
          "metadata": {
            "tags": []
          },
          "execution_count": 27
        }
      ]
    }
  ]
}